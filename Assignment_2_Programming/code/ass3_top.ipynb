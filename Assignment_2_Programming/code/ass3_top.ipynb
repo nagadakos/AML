{
 "cells": [
  {
   "cell_type": "code",
   "execution_count": 2,
   "metadata": {},
   "outputs": [
    {
     "name": "stdout",
     "output_type": "stream",
     "text": [
      "B:\\Workspaces\\AML\\AML\\Assignment_2_Programming\\code\n"
     ]
    }
   ],
   "source": [
    "import dnn_template_fullNet as dnn\n",
    "import os\n",
    "import sys\n",
    "from pathlib import Path\n",
    "from os.path import isdir, join, isfile\n",
    "import torch\n",
    "import torch.nn.functional as F\n",
    "#from data_loader import load_data\n",
    "from my_loader import load_data\n",
    "import numpy as np\n",
    "# ---------------------------------------------------------------------------------------------------\n",
    "# for py files\n",
    "#dir_path = os.path.dirname(os.path.realpath(__file__))\n",
    "# or this way, for ipynb files\n",
    "#dir_path = Path().resolve()\n",
    "dir_path = Path.cwd()\n",
    "\n",
    "print(dir_path)\n",
    "sys.path.insert(0, dir_path)\n",
    "resPath = os.path.join(dir_path,'..','results')\n",
    "os.makedirs(resPath, exist_ok=True) "
   ]
  },
  {
   "cell_type": "markdown",
   "metadata": {},
   "source": [
    "# Part 2"
   ]
  },
  {
   "cell_type": "code",
   "execution_count": 27,
   "metadata": {},
   "outputs": [
    {
     "name": "stdout",
     "output_type": "stream",
     "text": [
      "tensor(0.6250) 0.0\n"
     ]
    },
    {
     "data": {
      "text/plain": [
       "True"
      ]
     },
     "execution_count": 27,
     "metadata": {},
     "output_type": "execute_result"
    }
   ],
   "source": [
    "# ----------------------------------------------------------------------\n",
    "def evaluate_crf_predictions(pred, letterLabels):\n",
    "    letterAcc, wordAcc = 0.0,0.0\n",
    "    \n",
    "    for i, label in enumerate(letterLabels):       \n",
    "        \n",
    "        # Get correct labels\n",
    "        decSeq = pred[i]\n",
    "        \n",
    "        res = torch.sum((decSeq == label))     # find the number of labels that are equal to ground Truth\n",
    "        letterAcc += res                                                              # Letterwise acc is increases for every match found\n",
    "        wordAcc += 1 if res == decSeq.shape[0] else 0                                 # word acc increases only when ALL labels are correct\n",
    "    # Average out letter-wise acc over all letter and word-wise over all words.  \n",
    "    letterAcc /= pred.numel()\n",
    "    wordAcc /= pred.shape[0] # len gives as the number of words (each word is a line and the value is at which letter index it ends!)\n",
    "    return letterAcc, wordAcc\n",
    "\n",
    "pred = torch.tensor([[1,2,3,4], [5,6,7,8]])\n",
    "labels = torch.tensor([[1,2,1,4], [5,2,7,9]])\n",
    "lAcc, wAcc = evaluate_crf_predictions(pred,labels)\n",
    "print(lAcc, wAcc)\n",
    "'Tensor' in str(type(pred))"
   ]
  },
  {
   "cell_type": "markdown",
   "metadata": {},
   "source": [
    "# Part 3\n",
    "## DNN Implementation"
   ]
  },
  {
   "cell_type": "code",
   "execution_count": 2,
   "metadata": {},
   "outputs": [],
   "source": [
    "# ----------------------------------------------------------------------\n",
    "def evaluate_predictions(pred, letterLabels, wordIdxs):\n",
    "    letterAcc, wordAcc = 0,0\n",
    "    firstWord = 1\n",
    "    wordEnd = wordIdxs[firstWord-1]\n",
    "    for i, limit in enumerate(wordIdxs[firstWord:]):\n",
    "        \n",
    "        wordStart = int(wordEnd)\n",
    "        wordEnd = int(limit)\n",
    "        #if i %500 == 0:\n",
    "           # print(wordStart, wordEnd)\n",
    "        \n",
    "        decSeq = pred[wordStart:wordEnd]\n",
    "        # Get correct labels\n",
    "        #print(decSeq, letterLabels[wordStart:wordEnd])\n",
    "        #print((decSeq == letterLabels[wordStart:wordEnd]))\n",
    "        res = np.sum((decSeq == letterLabels[wordStart:wordEnd]).astype(int))     # find the number of labels that are equal to ground Truth\n",
    "        letterAcc += res                                                              # Letterwise acc is increases for every match found\n",
    "        wordAcc += 1 if res == decSeq.shape[0] else 0                                 # word acc increases only when ALL labels are correct\n",
    "    # Average out letter-wise acc over all letter and word-wise over all words.    \n",
    "    letterAcc /= pred.shape[0]\n",
    "    wordAcc /= len(wordIdxs) # len gives as the number of words (each word is a line and the value is at which letter index it ends!)\n",
    "    return letterAcc, wordAcc"
   ]
  },
  {
   "cell_type": "code",
   "execution_count": 3,
   "metadata": {},
   "outputs": [
    {
     "name": "stdout",
     "output_type": "stream",
     "text": [
      "200\n",
      "Loading Dataset as Letter-features for Deepnet comparison.\n",
      "\n",
      "Loaded dataset... \n"
     ]
    }
   ],
   "source": [
    "model = dnn.Net().to(dnn.device)\n",
    "trainLoader, testLoader, listReturns= load_data(dType = 'letter-features')\n",
    "trainWordLimits, testWordLimits = listReturns[2], listReturns[3]\n",
    "testLabels = listReturns[1]"
   ]
  },
  {
   "cell_type": "code",
   "execution_count": 4,
   "metadata": {},
   "outputs": [
    {
     "name": "stdout",
     "output_type": "stream",
     "text": [
      "######### Initiating Network Training and Testing #########\n",
      "\n",
      "Parameters: lr:0.001, momentum:0.8, batch Size:32, epochs:2\n",
      "Procedure carried on device: cpu\n",
      "\n",
      "Epoch: 0 start ------------\n",
      "\n",
      "Epoch: 0->Batch: 0 / 812. Loss = 3.2325832843780518\n",
      "Epoch: 0->Batch: 200 / 812. Loss = 3.2408456802368164\n",
      "Epoch: 0->Batch: 400 / 812. Loss = 3.14152455329895\n",
      "Epoch: 0->Batch: 600 / 812. Loss = 2.9637503623962402\n",
      "Epoch: 0->Batch: 800 / 812. Loss = 2.9667880535125732\n",
      "In Testing Function!\n",
      "Accuracy: 0.10493167417360104 (2749 / 26198)\n",
      "Epoch: 1 start ------------\n",
      "\n",
      "Epoch: 1->Batch: 0 / 812. Loss = 2.9751954078674316\n",
      "Epoch: 1->Batch: 200 / 812. Loss = 2.8523974418640137\n",
      "Epoch: 1->Batch: 400 / 812. Loss = 2.86149525642395\n",
      "Epoch: 1->Batch: 600 / 812. Loss = 2.8248543739318848\n",
      "Epoch: 1->Batch: 800 / 812. Loss = 2.7187979221343994\n",
      "In Testing Function!\n",
      "Accuracy: 0.23967478433468203 (6279 / 26198)\n",
      "Current stats of MNIST_NET:\n",
      "Accuracy:      0.23967478433468203\n",
      "Training Loss: 2.5620241165161133\n",
      "Test Loss:     73060.64933776855\n"
     ]
    }
   ],
   "source": [
    "kwargs = {'lr':0.001, 'm':0.8, 'bSize':32, 'epochs':2}\n",
    "\n",
    "#filtered_mydict = {k: v for k, v in mydict.items() if k in [p.name for p in inspect.signature(myfunc).parameters.values()]}\n",
    "model.evaluate([trainLoader, testLoader], kwArgs=kwargs)"
   ]
  },
  {
   "cell_type": "code",
   "execution_count": 5,
   "metadata": {},
   "outputs": [],
   "source": [
    "testData = torch.tensor(listReturns[-1]).float()\n",
    "preds = np.array(model.get_predictions(testData))"
   ]
  },
  {
   "cell_type": "code",
   "execution_count": 6,
   "metadata": {},
   "outputs": [
    {
     "data": {
      "text/plain": [
       "(0.23967478433468203, 0.0002907822041291073)"
      ]
     },
     "execution_count": 6,
     "metadata": {},
     "output_type": "execute_result"
    }
   ],
   "source": [
    "letterAcc, wordAcc = evaluate_predictions(preds, testLabels, testWordLimits)"
   ]
  },
  {
   "cell_type": "code",
   "execution_count": 7,
   "metadata": {},
   "outputs": [
    {
     "data": {
      "image/png": "[encoded data removed]",
      "text/plain": [
       "<Figure size 432x288 with 1 Axes>"
      ]
     },
     "metadata": {
      "needs_background": "light"
     },
     "output_type": "display_data"
    },
    {
     "data": {
      "image/png": "[encoded data removed]",
      "text/plain": [
       "<Figure size 432x288 with 1 Axes>"
      ]
     },
     "metadata": {
      "needs_background": "light"
     },
     "output_type": "display_data"
    }
   ],
   "source": [
    "figSaveFile = os.path.join(resPath,'dnn_learning_curve.png')\n",
    "fig = model.plot(figType = 'lrCurve', saveFile = figSaveFile)\n",
    "figSaveFile = os.path.join(resPath,'dnn_accuracy.png')\n",
    "fig = model.plot(saveFile = figSaveFile)"
   ]
  },
  {
   "cell_type": "code",
   "execution_count": 8,
   "metadata": {},
   "outputs": [
    {
     "data": {
      "text/plain": [
       "torch.Size([5])"
      ]
     },
     "execution_count": 8,
     "metadata": {},
     "output_type": "execute_result"
    }
   ],
   "source": []
  }
 ],
 "metadata": {
  "kernelspec": {
   "display_name": "Python 3",
   "language": "python",
   "name": "python3"
  },
  "language_info": {
   "codemirror_mode": {
    "name": "ipython",
    "version": 3
   },
   "file_extension": ".py",
   "mimetype": "text/x-python",
   "name": "python",
   "nbconvert_exporter": "python",
   "pygments_lexer": "ipython3",
   "version": "3.8.0"
  }
 },
 "nbformat": 4,
 "nbformat_minor": 4
}
