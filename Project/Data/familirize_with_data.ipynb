{
 "cells": [
  {
   "cell_type": "code",
   "execution_count": 2,
   "metadata": {},
   "outputs": [],
   "source": [
    "import loader\n",
    "import numpy as np"
   ]
  },
  {
   "cell_type": "code",
   "execution_count": 3,
   "metadata": {},
   "outputs": [
    {
     "name": "stdout",
     "output_type": "stream",
     "text": [
      "Existing file 'dataset.npz' found.\n",
      "10.80 Loaded data.\n"
     ]
    }
   ],
   "source": [
    "rets = loader.load_dataset(loader.train_path, loader.test_path)"
   ]
  },
  {
   "cell_type": "code",
   "execution_count": 13,
   "metadata": {},
   "outputs": [],
   "source": [
    "trainX, trainY = rets[0], rets[1]\n",
    "testX, testY = rets[2], rets[3]"
   ]
  },
  {
   "cell_type": "code",
   "execution_count": 15,
   "metadata": {},
   "outputs": [
    {
     "name": "stdout",
     "output_type": "stream",
     "text": [
      "(60498, 100, 100, 3) (60498,)\n",
      "(20622, 100, 100, 3) (20622,)\n"
     ]
    }
   ],
   "source": [
    "print(trainX.shape, trainY.shape)\n",
    "print(testX.shape, testY.shape)"
   ]
  },
  {
   "cell_type": "markdown",
   "metadata": {},
   "source": [
    "### generate dummy data for debugging"
   ]
  },
  {
   "cell_type": "code",
   "execution_count": 8,
   "metadata": {},
   "outputs": [],
   "source": [
    "trainX = np.ones((64,100,100,3))\n",
    "trainY = np.ones((64,1))\n",
    "testX  = np.ones((64,100,100,3))\n",
    "testY  = np.ones((64,1))\n",
    "trainMean = 1\n",
    "trainStd = 1\n",
    "testMean = 1\n",
    "testStd = 1"
   ]
  },
  {
   "cell_type": "code",
   "execution_count": 9,
   "metadata": {},
   "outputs": [],
   "source": [
    "np.savez('dummy.npz',\n",
    "          train_x = trainX,\n",
    "          train_y = trainY,\n",
    "          test_x = testX,\n",
    "         test_y =testY,\n",
    "         train_mean = trainMean,\n",
    "         train_std = trainStd,\n",
    "         test_mean = testMean,\n",
    "         test_std = testStd\n",
    "        )"
   ]
  },
  {
   "cell_type": "code",
   "execution_count": null,
   "metadata": {},
   "outputs": [],
   "source": []
  }
 ],
 "metadata": {
  "kernelspec": {
   "display_name": "Python 3",
   "language": "python",
   "name": "python3"
  },
  "language_info": {
   "codemirror_mode": {
    "name": "ipython",
    "version": 3
   },
   "file_extension": ".py",
   "mimetype": "text/x-python",
   "name": "python",
   "nbconvert_exporter": "python",
   "pygments_lexer": "ipython3",
   "version": "3.8.0"
  }
 },
 "nbformat": 4,
 "nbformat_minor": 4
}
