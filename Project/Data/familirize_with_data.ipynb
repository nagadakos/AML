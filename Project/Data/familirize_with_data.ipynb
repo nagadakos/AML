{
 "cells": [
  {
   "cell_type": "code",
   "execution_count": 39,
   "metadata": {},
   "outputs": [],
   "source": [
    "import loader\n",
    "import numpy as np\n",
    "import matplotlib.pyplot as plt"
   ]
  },
  {
   "cell_type": "code",
   "execution_count": 11,
   "metadata": {},
   "outputs": [
    {
     "name": "stdout",
     "output_type": "stream",
     "text": [
      "Existing file 'dataset.npz' found.\n",
      "12.10 Loaded data.\n"
     ]
    }
   ],
   "source": [
    "rets = loader.load_dataset(loader.train_path, loader.test_path)"
   ]
  },
  {
   "cell_type": "code",
   "execution_count": 66,
   "metadata": {},
   "outputs": [],
   "source": [
    "trainX, trainY = rets[0], rets[1]\n",
    "testX, testY = rets[2], rets[3]"
   ]
  },
  {
   "cell_type": "code",
   "execution_count": 52,
   "metadata": {},
   "outputs": [
    {
     "name": "stdout",
     "output_type": "stream",
     "text": [
      "(60498, 100, 100, 3) (60498,)\n",
      "(20622, 100, 100, 3) (20622,)\n"
     ]
    }
   ],
   "source": [
    "print(trainX.shape, trainY.shape)\n",
    "print(testX.shape, testY.shape)"
   ]
  },
  {
   "cell_type": "code",
   "execution_count": 63,
   "metadata": {},
   "outputs": [
    {
     "data": {
      "text/plain": [
       "(100, 100, 3)"
      ]
     },
     "execution_count": 63,
     "metadata": {},
     "output_type": "execute_result"
    }
   ],
   "source": [
    "trainX[trainY ==0][0].shape"
   ]
  },
  {
   "cell_type": "code",
   "execution_count": 72,
   "metadata": {},
   "outputs": [],
   "source": [
    "numOfClasses = 120\n",
    "fruitSamples = np.zeros((numOfClasses,100,100,3))\n",
    "for i in range(numOfClasses):\n",
    "    fruitSamples[i] = trainX[trainY == i][0]\n",
    "    "
   ]
  },
  {
   "cell_type": "code",
   "execution_count": 64,
   "metadata": {},
   "outputs": [],
   "source": [
    "                        \n",
    "trainX = fruitSamples\n",
    "trainY = np.arange(numOfClasses).reshape(-1,1)\n",
    "testX  = fruitSamples\n",
    "testY  = np.arange(numOfClasses).reshape(-1,1)\n",
    "trainMean = 1\n",
    "trainStd = 1\n",
    "testMean = 1\n",
    "testStd = 1\n",
    "                        "
   ]
  },
  {
   "cell_type": "code",
   "execution_count": 36,
   "metadata": {},
   "outputs": [],
   "source": [
    "np.savez('fruit_samples.npz',\n",
    "          train_x = trainX,\n",
    "          train_y = trainY,\n",
    "          test_x = testX,\n",
    "         test_y =testY,\n",
    "         train_mean = trainMean,\n",
    "         train_std = trainStd,\n",
    "         test_mean = testMean,\n",
    "         test_std = testStd\n",
    "        )"
   ]
  },
  {
   "cell_type": "markdown",
   "metadata": {},
   "source": [
    "### generate dummy data for debugging"
   ]
  },
  {
   "cell_type": "code",
   "execution_count": 8,
   "metadata": {},
   "outputs": [],
   "source": [
    "trainX = np.ones((64,100,100,3))\n",
    "trainY = np.ones((64,1))\n",
    "testX  = np.ones((64,100,100,3))\n",
    "testY  = np.ones((64,1))\n",
    "trainMean = 1\n",
    "trainStd = 1\n",
    "testMean = 1\n",
    "testStd = 1"
   ]
  },
  {
   "cell_type": "code",
   "execution_count": 9,
   "metadata": {},
   "outputs": [],
   "source": [
    "np.savez('dummy.npz',\n",
    "          train_x = trainX,\n",
    "          train_y = trainY,\n",
    "          test_x = testX,\n",
    "         test_y =testY,\n",
    "         train_mean = trainMean,\n",
    "         train_std = trainStd,\n",
    "         test_mean = testMean,\n",
    "         test_std = testStd\n",
    "        )"
   ]
  },
  {
   "cell_type": "code",
   "execution_count": 95,
   "metadata": {},
   "outputs": [
    {
     "data": {
      "image/png": "[encoded data removed]",
      "text/plain": [
       "<Figure size 432x288 with 1 Axes>"
      ]
     },
     "metadata": {
      "needs_background": "light"
     },
     "output_type": "display_data"
    }
   ],
   "source": [
    "plt.imshow(fruitSamples[0].astype(\"int\"))\n",
    "plt.show()"
   ]
  },
  {
   "cell_type": "code",
   "execution_count": 91,
   "metadata": {},
   "outputs": [
    {
     "data": {
      "text/plain": [
       "array([[255., 255., 255., ..., 255., 255., 255.],\n",
       "       [255., 255., 255., ..., 255., 255., 255.],\n",
       "       [255., 255., 255., ..., 255., 255., 255.],\n",
       "       ...,\n",
       "       [255., 255., 255., ..., 255., 255., 255.],\n",
       "       [255., 255., 255., ..., 255., 255., 255.],\n",
       "       [255., 255., 255., ..., 255., 255., 255.]])"
      ]
     },
     "execution_count": 91,
     "metadata": {},
     "output_type": "execute_result"
    }
   ],
   "source": [
    "fruitSamples[0][:,:,2]"
   ]
  }
 ],
 "metadata": {
  "kernelspec": {
   "display_name": "Python 3",
   "language": "python",
   "name": "python3"
  },
  "language_info": {
   "codemirror_mode": {
    "name": "ipython",
    "version": 3
   },
   "file_extension": ".py",
   "mimetype": "text/x-python",
   "name": "python",
   "nbconvert_exporter": "python",
   "pygments_lexer": "ipython3",
   "version": "3.8.0"
  }
 },
 "nbformat": 4,
 "nbformat_minor": 4
}
